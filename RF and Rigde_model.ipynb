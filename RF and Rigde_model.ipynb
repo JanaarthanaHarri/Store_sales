{
 "cells": [
  {
   "cell_type": "code",
   "execution_count": 1,
   "id": "e184a2f2",
   "metadata": {},
   "outputs": [],
   "source": [
    "import pandas as pd\n",
    "import numpy as np\n",
    "import matplotlib.pyplot as plt\n",
    "import matplotlib.ticker as ticker\n",
    "%matplotlib inline\n",
    "from sklearn.metrics import mean_squared_error\n",
    "from sklearn.preprocessing import LabelEncoder\n",
    "import time\n",
    "import os\n",
    "from itertools import product\n",
    "from pylab import rcParams\n",
    "from sklearn.linear_model import Ridge\n",
    "from sklearn.metrics import mean_squared_log_error\n",
    "from statsmodels.tsa.deterministic import CalendarFourier, DeterministicProcess, Fourier\n",
    "path = 'data/'"
   ]
  },
  {
   "cell_type": "code",
   "execution_count": 16,
   "id": "8430f21e",
   "metadata": {},
   "outputs": [],
   "source": [
    "train = pd.read_csv(path + 'train.csv')\n",
    "test = pd.read_csv(path + 'test.csv')\n",
    "oil = pd.read_csv(path + 'oil.csv')\n",
    "holidays = pd.read_csv(path + 'holidays_events.csv')\n",
    "stores = pd.read_csv(path + 'stores.csv')\n",
    "transactions = pd.read_csv(path + 'transactions.csv')"
   ]
  },
  {
   "cell_type": "markdown",
   "id": "ec0e4468",
   "metadata": {},
   "source": [
    "##### Data Manipulation"
   ]
  },
  {
   "cell_type": "markdown",
   "id": "37650128",
   "metadata": {},
   "source": [
    "Calender from 2013 to 2017"
   ]
  },
  {
   "cell_type": "code",
   "execution_count": 17,
   "id": "338105e5",
   "metadata": {},
   "outputs": [],
   "source": [
    "calendar = pd.DataFrame(index=pd.date_range('2013-01-01', '2017-08-31'))\n",
    "\n",
    "# moving average\n",
    "df_oil = pd.read_csv(path + 'oil.csv', parse_dates=['date'], infer_datetime_format=True, index_col='date')\n",
    "df_oil['ma_oil'] = df_oil['dcoilwtico'].rolling(7).mean()\n",
    "\n",
    "calendar = calendar.merge(df_oil, how='left', left_index=True, right_index=True)\n",
    "calendar['ma_oil'].fillna(method='ffill', inplace=True)"
   ]
  },
  {
   "cell_type": "code",
   "execution_count": 18,
   "id": "3c72b0b6",
   "metadata": {},
   "outputs": [],
   "source": [
    "# Day of week\n",
    "calendar['dofw'] = calendar.index.dayofweek"
   ]
  },
  {
   "cell_type": "markdown",
   "id": "8b61e214",
   "metadata": {},
   "source": [
    "Holiday events"
   ]
  },
  {
   "cell_type": "code",
   "execution_count": 19,
   "id": "2beab0f4",
   "metadata": {},
   "outputs": [],
   "source": [
    "df_events = pd.read_csv(path + 'holidays_events.csv', parse_dates=['date'], infer_datetime_format=True)\n",
    "df_events['date'] = df_events['date'].replace({'2013-04-29' : \n",
    "                                         pd.to_datetime('2013-03-29')}) # 'Good Friday' mistake correction\n",
    "\n",
    "df_events = df_events.set_index('date').sort_index()\n",
    "df_events = df_events[df_events.locale == 'National'] \n",
    "df_events = df_events.groupby(df_events.index).first() # Keep one event only"
   ]
  },
  {
   "cell_type": "code",
   "execution_count": 20,
   "id": "240c75cf",
   "metadata": {},
   "outputs": [],
   "source": [
    "# Including workday to the calender \n",
    "calendar['wd'] = True\n",
    "\n",
    "calendar.loc[calendar.dofw > 4, 'wd'] = False\n",
    "calendar = calendar.merge(df_events, how='left', left_index=True, right_index=True)\n",
    "calendar.loc[calendar.type == 'Bridge'  , 'wd'] = False\n",
    "calendar.loc[calendar.type == 'Work Day', 'wd'] = True\n",
    "calendar.loc[calendar.type == 'Transfer', 'wd'] = False\n",
    "calendar.loc[(calendar.type == 'Holiday') & (calendar.transferred == False), 'wd'] = False\n",
    "calendar.loc[(calendar.type == 'Holiday') & (calendar.transferred == True ), 'wd'] = True"
   ]
  },
  {
   "cell_type": "markdown",
   "id": "f8541e05",
   "metadata": {},
   "source": [
    "##### Data Modeling"
   ]
  },
  {
   "cell_type": "markdown",
   "id": "2f38fbbe",
   "metadata": {},
   "source": [
    "Rigde Regression"
   ]
  },
  {
   "cell_type": "code",
   "execution_count": 21,
   "id": "abb12c2f",
   "metadata": {},
   "outputs": [],
   "source": [
    "df_train = pd.read_csv(path + 'train.csv',\n",
    "                       usecols=['store_nbr', 'family', 'date', 'sales'],\n",
    "                       dtype={'store_nbr': 'category', 'family': 'category', 'sales': 'float32'},\n",
    "                       parse_dates=['date'], infer_datetime_format=True)\n",
    "df_train.date = df_train.date.dt.to_period('D')\n",
    "df_train = df_train.set_index(['store_nbr', 'family', 'date']).sort_index()\n",
    "\n",
    "df_test = pd.read_csv(path + 'test.csv',\n",
    "                      usecols=['store_nbr', 'family', 'date'],\n",
    "                      dtype={'store_nbr': 'category', 'family': 'category'},\n",
    "                      parse_dates=['date'], infer_datetime_format=True)\n",
    "df_test.date = df_test.date.dt.to_period('D')\n",
    "df_test = df_test.set_index(['store_nbr', 'family', 'date']).sort_index()"
   ]
  },
  {
   "cell_type": "code",
   "execution_count": 22,
   "id": "7e946110",
   "metadata": {},
   "outputs": [],
   "source": [
    "end_date='2017-08-15'\n",
    "start_date='2017-04-01'"
   ]
  },
  {
   "cell_type": "code",
   "execution_count": 23,
   "id": "341ab308",
   "metadata": {},
   "outputs": [],
   "source": [
    "y = df_train.unstack(['store_nbr', 'family']).loc[start_date:end_date]\n",
    "\n",
    "fourier = CalendarFourier(freq='W', order=4)\n",
    "dp = DeterministicProcess(index=y.index,\n",
    "                          constant=False,\n",
    "                          order=1,\n",
    "                          seasonal=False,\n",
    "                          additional_terms=[fourier],\n",
    "                          drop=True)\n",
    "X = dp.in_sample()\n",
    "\n",
    "# Extentions\n",
    "\n",
    "X['oil']  = calendar.loc[start_date:end_date]['ma_oil'].values\n",
    "X['dofw'] = calendar.loc[start_date:end_date]['dofw'].values\n",
    "X['wd']   = calendar.loc[start_date:end_date]['wd'].values\n",
    "X['type'] = calendar.loc[start_date:end_date]['type'].values\n",
    "\n",
    "X = pd.get_dummies(X, columns=['dofw'], drop_first=True)\n",
    "X = pd.get_dummies(X, columns=['type'], drop_first=False)\n",
    "\n",
    "model = Ridge(fit_intercept=True, solver='auto', alpha=0.5, normalize=True) # try alpha,0.1 ,0.3 ,0.6 and 0.9\n",
    "model.fit(X, y)\n",
    "y_pred = pd.DataFrame(model.predict(X), index=X.index, columns=y.columns)"
   ]
  },
  {
   "cell_type": "code",
   "execution_count": 24,
   "id": "a04a9aa5",
   "metadata": {},
   "outputs": [
    {
     "data": {
      "text/plain": [
       "family\n",
       "AUTOMOTIVE                    0.259202\n",
       "BABY CARE                     0.066660\n",
       "BEAUTY                        0.267450\n",
       "BEVERAGES                     0.199187\n",
       "BOOKS                         0.026701\n",
       "BREAD/BAKERY                  0.125449\n",
       "CELEBRATION                   0.295910\n",
       "CLEANING                      0.204513\n",
       "DAIRY                         0.136196\n",
       "DELI                          0.108830\n",
       "EGGS                          0.147672\n",
       "FROZEN FOODS                  0.145027\n",
       "GROCERY I                     0.210306\n",
       "GROCERY II                    0.347753\n",
       "HARDWARE                      0.273930\n",
       "HOME AND KITCHEN I            0.259483\n",
       "HOME AND KITCHEN II           0.219104\n",
       "HOME APPLIANCES               0.154737\n",
       "HOME CARE                     0.122103\n",
       "LADIESWEAR                    0.259483\n",
       "LAWN AND GARDEN               0.216374\n",
       "LINGERIE                      0.400216\n",
       "LIQUOR,WINE,BEER              0.612719\n",
       "MAGAZINES                     0.254086\n",
       "MEATS                         0.123141\n",
       "PERSONAL CARE                 0.137507\n",
       "PET SUPPLIES                  0.210464\n",
       "PLAYERS AND ELECTRONICS       0.223845\n",
       "POULTRY                       0.122109\n",
       "PREPARED FOODS                0.126234\n",
       "PRODUCE                       0.184626\n",
       "SCHOOL AND OFFICE SUPPLIES    1.394414\n",
       "SEAFOOD                       0.253164\n",
       "dtype: float64"
      ]
     },
     "execution_count": 24,
     "metadata": {},
     "output_type": "execute_result"
    }
   ],
   "source": [
    "y_pred   = y_pred.stack(['store_nbr', 'family']).reset_index()\n",
    "y_target = y.stack(['store_nbr', 'family']).reset_index().copy()\n",
    "y_target['sales_pred'] = y_pred['sales'].clip(0.) \n",
    "y_target.groupby('family').apply(lambda r: mean_squared_log_error(r['sales'], r['sales_pred']))"
   ]
  },
  {
   "cell_type": "markdown",
   "id": "bb35167e",
   "metadata": {},
   "source": [
    "RandomForest and Ridge Regression"
   ]
  },
  {
   "cell_type": "code",
   "execution_count": 25,
   "id": "a3945ce7",
   "metadata": {},
   "outputs": [],
   "source": [
    "from joblib import Parallel, delayed\n",
    "import warnings\n",
    "\n",
    "from sklearn.linear_model import Ridge\n",
    "from sklearn.ensemble     import RandomForestRegressor\n",
    "\n",
    "class CustomRegressor():\n",
    "    \n",
    "    def __init__(self, n_jobs=-1, verbose=0): \n",
    "        self.n_jobs = n_jobs\n",
    "        self.verbose = verbose\n",
    "        self.estimators_ = None\n",
    "        \n",
    "    def _estimator_(self, X, y):\n",
    "        warnings.simplefilter(action='ignore', category=FutureWarning)\n",
    "        if y.name[2] == 'SCHOOL AND OFFICE SUPPLIES':\n",
    "            model = RandomForestRegressor(n_estimators = 300, n_jobs=-1, random_state=1)\n",
    "            \n",
    "        else:\n",
    "            model = Ridge(fit_intercept=True, solver='auto', alpha=0.5, normalize=True)\n",
    "        model.fit(X, y)\n",
    "        return model\n",
    "\n",
    "    def fit(self, X, y):\n",
    "        self.estimators_ = Parallel(n_jobs=self.n_jobs, \n",
    "                              verbose=self.verbose,\n",
    "                              )(delayed(self._estimator_)(X, y.iloc[:, i]) for i in range(y.shape[1]))\n",
    "        return\n",
    "    \n",
    "    def predict(self, X):\n",
    "        y_pred = Parallel(n_jobs=self.n_jobs, \n",
    "                          verbose=self.verbose)(delayed(e.predict)(X) for e in self.estimators_)\n",
    "        return np.stack(y_pred, axis=1)"
   ]
  },
  {
   "cell_type": "code",
   "execution_count": 26,
   "id": "225ff14a",
   "metadata": {},
   "outputs": [],
   "source": [
    "model = CustomRegressor(n_jobs=-1, verbose=0)\n",
    "model.fit(X, y)\n",
    "y_pred = pd.DataFrame(model.predict(X), index=X.index, columns=y.columns)"
   ]
  },
  {
   "cell_type": "code",
   "execution_count": 27,
   "id": "131cbbe1",
   "metadata": {},
   "outputs": [
    {
     "data": {
      "text/plain": [
       "family\n",
       "AUTOMOTIVE                    0.259202\n",
       "BABY CARE                     0.066660\n",
       "BEAUTY                        0.267450\n",
       "BEVERAGES                     0.199187\n",
       "BOOKS                         0.026701\n",
       "BREAD/BAKERY                  0.125449\n",
       "CELEBRATION                   0.295910\n",
       "CLEANING                      0.204513\n",
       "DAIRY                         0.136196\n",
       "DELI                          0.108830\n",
       "EGGS                          0.147672\n",
       "FROZEN FOODS                  0.145027\n",
       "GROCERY I                     0.210306\n",
       "GROCERY II                    0.347753\n",
       "HARDWARE                      0.273930\n",
       "HOME AND KITCHEN I            0.259483\n",
       "HOME AND KITCHEN II           0.219104\n",
       "HOME APPLIANCES               0.154737\n",
       "HOME CARE                     0.122103\n",
       "LADIESWEAR                    0.259483\n",
       "LAWN AND GARDEN               0.216374\n",
       "LINGERIE                      0.400216\n",
       "LIQUOR,WINE,BEER              0.612719\n",
       "MAGAZINES                     0.254086\n",
       "MEATS                         0.123141\n",
       "PERSONAL CARE                 0.137507\n",
       "PET SUPPLIES                  0.210464\n",
       "PLAYERS AND ELECTRONICS       0.223845\n",
       "POULTRY                       0.122109\n",
       "PREPARED FOODS                0.126234\n",
       "PRODUCE                       0.184626\n",
       "SCHOOL AND OFFICE SUPPLIES    0.074222\n",
       "SEAFOOD                       0.253164\n",
       "dtype: float64"
      ]
     },
     "execution_count": 27,
     "metadata": {},
     "output_type": "execute_result"
    }
   ],
   "source": [
    "# RandomForest Model results\n",
    "y_pred   = y_pred.stack(['store_nbr', 'family']).reset_index()\n",
    "y_target = y.stack(['store_nbr', 'family']).reset_index().copy()\n",
    "y_target['sales_pred'] = y_pred['sales'].clip(0.) \n",
    "y_target.groupby('family').apply(lambda r: mean_squared_log_error(r['sales'], r['sales_pred']))"
   ]
  },
  {
   "cell_type": "code",
   "execution_count": 28,
   "id": "408d61ee",
   "metadata": {},
   "outputs": [],
   "source": [
    "end_test='2017-08-31'\n",
    "start_test='2017-08-16'\n",
    "X_test = dp.out_of_sample(steps=16)\n",
    "\n",
    "# Extentions\n",
    "X_test['oil']  = calendar.loc[start_test:end_test]['ma_oil'].values\n",
    "X_test['dofw'] = calendar.loc[start_test:end_test]['dofw'].values\n",
    "X_test['wd']   = calendar.loc[start_test:end_test]['wd'].values\n",
    "\n",
    "X_test = pd.get_dummies(X_test, columns=['dofw'], drop_first=True)\n",
    "\n",
    "# No national level events in this period\n",
    "X_test[['type_Additional', 'type_Event', 'type_Holiday', 'type_Transfer']] = 0\n",
    "\n",
    "sales_pred = pd.DataFrame(model.predict(X_test), index=X_test.index, columns=y.columns)\n",
    "sales_pred = sales_pred.stack(['store_nbr', 'family'])\n",
    "sales_pred[sales_pred < 0] = 0. "
   ]
  },
  {
   "cell_type": "code",
   "execution_count": 30,
   "id": "210fdd98",
   "metadata": {},
   "outputs": [],
   "source": [
    "My_submission = pd.read_csv(path + 'sample_submission.csv', index_col='id')\n",
    "My_submission.sales = sales_pred.values\n",
    "My_submission.to_csv('R_model.csv', index=True)"
   ]
  },
  {
   "cell_type": "code",
   "execution_count": null,
   "id": "8cc0414e",
   "metadata": {},
   "outputs": [],
   "source": []
  }
 ],
 "metadata": {
  "kernelspec": {
   "display_name": "Python 3",
   "language": "python",
   "name": "python3"
  },
  "language_info": {
   "codemirror_mode": {
    "name": "ipython",
    "version": 3
   },
   "file_extension": ".py",
   "mimetype": "text/x-python",
   "name": "python",
   "nbconvert_exporter": "python",
   "pygments_lexer": "ipython3",
   "version": "3.8.8"
  }
 },
 "nbformat": 4,
 "nbformat_minor": 5
}
