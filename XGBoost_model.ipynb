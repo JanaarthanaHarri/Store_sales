{
 "cells": [
  {
   "cell_type": "code",
   "execution_count": 1,
   "id": "d1dece82",
   "metadata": {},
   "outputs": [],
   "source": [
    "import pandas as pd\n",
    "import numpy as np\n",
    "from matplotlib import pyplot\n",
    "import matplotlib.pyplot as plt\n",
    "import seaborn as sns\n",
    "\n",
    "from sklearn.preprocessing import LabelEncoder\n",
    "from sklearn.metrics import mean_squared_error\n",
    "\n",
    "import xgboost as xgb\n",
    "\n",
    "from datetime import date, datetime\n",
    "import time\n",
    "import calendar\n",
    "path = 'data/'"
   ]
  },
  {
   "cell_type": "code",
   "execution_count": 18,
   "id": "f06b4c48",
   "metadata": {},
   "outputs": [],
   "source": [
    "train = pd.read_csv(path + 'train.csv')\n",
    "test = pd.read_csv(path + 'test.csv')\n",
    "sub = pd.read_csv(path + 'sample_submission.csv')\n",
    "\n",
    "oil = pd.read_csv(path + 'oil.csv')\n",
    "holiday = pd.read_csv(path + 'holidays_events.csv')\n",
    "store = pd.read_csv(path + 'stores.csv')\n",
    "tran = pd.read_csv(path + 'transactions.csv')"
   ]
  },
  {
   "cell_type": "code",
   "execution_count": 3,
   "id": "f0a8fe24",
   "metadata": {},
   "outputs": [],
   "source": [
    "def preprocess_train(df):\n",
    "    df['date'] = df['date'].map(lambda x: date.fromisoformat(x))\n",
    "    df['weekday'] = df['date'].map(lambda x: x.weekday())\n",
    "    df['year'] = df['date'].map(lambda x: x.year)\n",
    "    df['month'] = df['date'].map(lambda x: x.month)\n",
    "    df['day'] = df['date'].map(lambda x: x.day)\n",
    "    df['eomd'] = df['date'].map(lambda x: calendar.monthrange(x.year, x.month)[1])\n",
    "    df['payday'] = ((df['day'] == df['eomd'])|(df['day'] == 15)).astype(int)\n",
    "    df = df.drop(['id', 'eomd'], axis=1)\n",
    "    return df\n",
    "\n",
    "train = preprocess_train(train)\n",
    "test = preprocess_train(test)"
   ]
  },
  {
   "cell_type": "code",
   "execution_count": 4,
   "id": "4ea9057a",
   "metadata": {},
   "outputs": [],
   "source": [
    "def preprocess_oil(oil):\n",
    "    oil['month'] = oil['date'].map(lambda x: int(x.replace('-', '')[:6]))\n",
    "    oil['month_avg'] = oil.groupby('month')['dcoilwtico'].transform('mean')\n",
    "    oil['tmp'] = oil['dcoilwtico'].map(np.isnan)\n",
    "    oil['month_avg'] = oil['tmp'] * oil['month_avg']\n",
    "    oil['dcoilwtico'].fillna(0, inplace=True)\n",
    "    oil['dcoilwtico'] = oil['dcoilwtico'] + oil['month_avg']\n",
    "    oil = oil.drop(['month', 'month_avg', 'tmp'], axis=1)\n",
    "    oil['date'] = oil['date'].map(lambda x: date.fromisoformat(x))\n",
    "    return oil\n",
    "\n",
    "oil = preprocess_oil(oil)"
   ]
  },
  {
   "cell_type": "code",
   "execution_count": 5,
   "id": "3ab17c65",
   "metadata": {},
   "outputs": [],
   "source": [
    "def preprocess_holiday(df):\n",
    "    df['date'] = df['date'].map(lambda x: date.fromisoformat(x))\n",
    "    df = df[(df['transferred']==False)&(df['type']!='Work Day')]\n",
    "    event = df[df['type']=='Event']\n",
    "    earthquake = event[event['description'].str.startswith('Terremoto Manabi')]\n",
    "    event = event[event['description'].str.startswith('Terremoto Manabi')==False]\n",
    "    return df, event, earthquake\n",
    "\n",
    "holiday, event, earthquake = preprocess_holiday(holiday)\n",
    "\n",
    "event = event[['date', 'description']]\n",
    "event.rename({'description': 'event_name'}, axis=1, inplace=True)\n",
    "\n",
    "earthquake = earthquake[['date', 'description']]\n",
    "earthquake.rename({'description': 'earthquake'}, axis=1, inplace=True)\n",
    "\n",
    "h_local = holiday[holiday['locale']=='Local']\n",
    "h_local = h_local[['date', 'locale_name', 'description']]\n",
    "h_local = h_local.rename({'locale_name': 'city', 'description': 'local_holiday_name'}, axis=1)\n",
    "\n",
    "h_regional = holiday[holiday['locale']=='Regional']\n",
    "h_regional = h_regional[['date', 'locale_name', 'description']]\n",
    "h_regional = h_regional.rename({'locale_name': 'state', 'description': 'regional_holiday_name'}, axis=1)\n",
    "\n",
    "h_national = holiday[holiday['locale']=='National']\n",
    "h_national = h_national[['date', 'description']]\n",
    "h_national = h_national.rename({'description': 'national_holiday_name'}, axis=1)"
   ]
  },
  {
   "cell_type": "code",
   "execution_count": 6,
   "id": "7573cd32",
   "metadata": {},
   "outputs": [],
   "source": [
    "def merge_tables(df):\n",
    "    df = df.merge(oil, on='date', how='left')\n",
    "    df = df.merge(store, on='store_nbr', how='left')\n",
    "    df = df.merge(event, on='date', how='left').fillna('0')\n",
    "    df = df.merge(earthquake, on='date', how='left').fillna('0')\n",
    "    df = df.merge(h_local, on=['date', 'city'], how='left').fillna('0')\n",
    "    df = df.merge(h_regional, on=['date', 'state'], how='left').fillna('0')\n",
    "    df = df.merge(h_national, on='date', how='left').fillna('0')\n",
    "    df = df.merge(tran, on=['date', 'store_nbr'], how='left').fillna(0)\n",
    "\n",
    "    return df\n",
    "\n",
    "train = merge_tables(train)\n",
    "test = merge_tables(test)"
   ]
  },
  {
   "cell_type": "code",
   "execution_count": 7,
   "id": "21d0fffb",
   "metadata": {},
   "outputs": [],
   "source": [
    "train['dcoilwtico'] = train['dcoilwtico'].astype(float)\n",
    "test['dcoilwtico'] = test['dcoilwtico'].astype(float)"
   ]
  },
  {
   "cell_type": "code",
   "execution_count": 8,
   "id": "9a3c6751",
   "metadata": {},
   "outputs": [],
   "source": [
    "cat_features = ['family', 'store_nbr', 'city', 'state', 'type', 'cluster',\n",
    "                'event_name', 'earthquake', 'local_holiday_name', 'regional_holiday_name', 'national_holiday_name']\n",
    "for col in cat_features:\n",
    "    le = LabelEncoder()\n",
    "    train[col] = le.fit_transform(train[col])\n",
    "    test[col] = le.transform(test[col])"
   ]
  },
  {
   "cell_type": "code",
   "execution_count": 9,
   "id": "486396fe",
   "metadata": {},
   "outputs": [],
   "source": [
    "def preprocess_dataset(df, train_date: list, valid_date: list):\n",
    "    df['is_train'] = df['date'].map(lambda x: x in train_date)\n",
    "    df['is_valid'] = df['date'].map(lambda x: x in valid_date)\n",
    "    return df\n",
    "\n",
    "train_date = train['date'].unique()[-76:-15].tolist()\n",
    "valid_date = train['date'].unique()[-15:].tolist()\n",
    "train = preprocess_dataset(train, train_date, valid_date)"
   ]
  },
  {
   "cell_type": "code",
   "execution_count": 10,
   "id": "3a8b5adc",
   "metadata": {},
   "outputs": [],
   "source": [
    "y = np.log(train['sales'] + 1)\n",
    "X_train = train.drop(['date', 'sales', 'year'], axis=1)\n",
    "X_test = test.drop(['date', 'year'], axis=1)"
   ]
  },
  {
   "cell_type": "code",
   "execution_count": 11,
   "id": "0f98f76e",
   "metadata": {},
   "outputs": [],
   "source": [
    "xgb_params = {\n",
    "    'tree_method': 'gpu_hist', \n",
    "    'gpu_id': 0,\n",
    "    'predictor': 'gpu_predictor', \n",
    "    'verbosity': 2,\n",
    "    'objective': 'reg:squarederror', \n",
    "    'eval_metric': 'rmse', \n",
    "    'random_state': 2021,\n",
    "    'learning_rate': 0.009,\n",
    "    'subsample': 0.99,\n",
    "    'colsample_bytree': 0.80,\n",
    "    'reg_alpha': 10.0,\n",
    "    'reg_lambda': 0.18,\n",
    "    'min_child_weight': 47,\n",
    "}"
   ]
  },
  {
   "cell_type": "code",
   "execution_count": 26,
   "id": "59d5404c",
   "metadata": {},
   "outputs": [],
   "source": [
    "from sklearn.metrics import mean_squared_error\n",
    "from sklearn.metrics import mean_absolute_error\n",
    "from sklearn.metrics import mean_squared_log_error\n",
    "import math\n",
    "\n",
    "def basic_xgboost(X_train, y, xgb_params, X_test):\n",
    "    start = time.time()    \n",
    "    # extract train and valid dataset\n",
    "    trn_idx = X_train[X_train['is_train']==True].index.tolist()\n",
    "    val_idx = X_train[X_train['is_valid']==True].index.tolist()\n",
    "\n",
    "    X_tr = X_train.loc[trn_idx, :].drop(['is_train', 'is_valid'], axis=1)\n",
    "    X_val = X_train.loc[val_idx, :].drop(['is_train', 'is_valid'], axis=1)\n",
    "    y_tr = y[trn_idx]\n",
    "    y_val = y[val_idx]\n",
    "    \n",
    "    xgb_train = xgb.DMatrix(X_tr, label=y_tr)\n",
    "    xgb_valid = xgb.DMatrix(X_val, label=y_val)\n",
    "    evallist = [(xgb_train, 'train'), (xgb_valid, 'eval')]\n",
    "    evals_result = dict()\n",
    "    \n",
    "    model = xgb.train(params=xgb_params, dtrain=xgb_train, evals=evallist, evals_result=evals_result,\n",
    "                      verbose_eval=5000, num_boost_round=100000, early_stopping_rounds=100)\n",
    "    \n",
    "    \n",
    "    \n",
    "    xgb_oof = np.zeros(y_val.shape[0])\n",
    "    xgb_oof = model.predict(xgb_valid, iteration_range=(0, model.best_iteration))\n",
    "    \n",
    "    xgb_test = xgb.DMatrix(X_test)\n",
    "    xgb_pred = pd.Series(model.predict(xgb_test, iteration_range=(0, model.best_iteration)),\n",
    "                         name='xgb_pred')\n",
    "    \n",
    "    elapsed = time.time() - start\n",
    "    mse = mean_squared_error(y_val, xgb_oof, squared=False)\n",
    "#     rmsle = np.sqrt(mean_squared_log_error(y_true=y_val, y_pred=xgb_oof))\n",
    "    mae=mean_absolute_error(y_val,xgb_oof)\n",
    "    print(f\" rmse: {mse:.6f}\\n mae: {mae:.6f} , elapsed time: {elapsed:.2f}sec\\n\")\n",
    "    \n",
    "\n",
    "    return xgb_oof, model, evals_result, xgb_pred"
   ]
  },
  {
   "cell_type": "code",
   "execution_count": 27,
   "id": "d137ad2e",
   "metadata": {},
   "outputs": [
    {
     "name": "stdout",
     "output_type": "stream",
     "text": [
      "[0]\ttrain-rmse:3.98392\teval-rmse:3.98526\n",
      "[5000]\ttrain-rmse:0.40131\teval-rmse:0.46033\n",
      "[10000]\ttrain-rmse:0.37629\teval-rmse:0.44340\n",
      "[15000]\ttrain-rmse:0.36613\teval-rmse:0.43756\n",
      "[20000]\ttrain-rmse:0.36022\teval-rmse:0.43459\n",
      "[25000]\ttrain-rmse:0.35617\teval-rmse:0.43271\n",
      "[30000]\ttrain-rmse:0.35315\teval-rmse:0.43145\n",
      "[35000]\ttrain-rmse:0.35078\teval-rmse:0.43050\n",
      "[35606]\ttrain-rmse:0.35053\teval-rmse:0.43043\n",
      " rmse: 0.430418\n",
      " mae: 0.301451 , elapsed time: 331.21sec\n",
      "\n",
      "Wall time: 5min 32s\n"
     ]
    }
   ],
   "source": [
    "%%time\n",
    "oof, model, evals_result, pred = basic_xgboost(X_train, y, xgb_params, X_test)"
   ]
  },
  {
   "cell_type": "code",
   "execution_count": 24,
   "id": "3b749a4a",
   "metadata": {},
   "outputs": [],
   "source": [
    "sub['sales'] = np.exp(pred) - 1\n",
    "# sub.to_csv('XGB_Model.csv', index=False)"
   ]
  },
  {
   "cell_type": "code",
   "execution_count": 27,
   "id": "56baba34",
   "metadata": {},
   "outputs": [
    {
     "data": {
      "text/html": [
       "<div>\n",
       "<style scoped>\n",
       "    .dataframe tbody tr th:only-of-type {\n",
       "        vertical-align: middle;\n",
       "    }\n",
       "\n",
       "    .dataframe tbody tr th {\n",
       "        vertical-align: top;\n",
       "    }\n",
       "\n",
       "    .dataframe thead th {\n",
       "        text-align: right;\n",
       "    }\n",
       "</style>\n",
       "<table border=\"1\" class=\"dataframe\">\n",
       "  <thead>\n",
       "    <tr style=\"text-align: right;\">\n",
       "      <th></th>\n",
       "      <th>feature</th>\n",
       "      <th>importance</th>\n",
       "    </tr>\n",
       "  </thead>\n",
       "  <tbody>\n",
       "    <tr>\n",
       "      <th>1</th>\n",
       "      <td>family</td>\n",
       "      <td>376925.0</td>\n",
       "    </tr>\n",
       "    <tr>\n",
       "      <th>0</th>\n",
       "      <td>store_nbr</td>\n",
       "      <td>272481.0</td>\n",
       "    </tr>\n",
       "    <tr>\n",
       "      <th>5</th>\n",
       "      <td>day</td>\n",
       "      <td>159755.0</td>\n",
       "    </tr>\n",
       "    <tr>\n",
       "      <th>2</th>\n",
       "      <td>onpromotion</td>\n",
       "      <td>138771.0</td>\n",
       "    </tr>\n",
       "    <tr>\n",
       "      <th>11</th>\n",
       "      <td>cluster</td>\n",
       "      <td>132283.0</td>\n",
       "    </tr>\n",
       "    <tr>\n",
       "      <th>8</th>\n",
       "      <td>city</td>\n",
       "      <td>117877.0</td>\n",
       "    </tr>\n",
       "    <tr>\n",
       "      <th>7</th>\n",
       "      <td>dcoilwtico</td>\n",
       "      <td>107975.0</td>\n",
       "    </tr>\n",
       "    <tr>\n",
       "      <th>3</th>\n",
       "      <td>weekday</td>\n",
       "      <td>104434.0</td>\n",
       "    </tr>\n",
       "    <tr>\n",
       "      <th>9</th>\n",
       "      <td>state</td>\n",
       "      <td>83675.0</td>\n",
       "    </tr>\n",
       "    <tr>\n",
       "      <th>10</th>\n",
       "      <td>type</td>\n",
       "      <td>76754.0</td>\n",
       "    </tr>\n",
       "    <tr>\n",
       "      <th>4</th>\n",
       "      <td>month</td>\n",
       "      <td>32197.0</td>\n",
       "    </tr>\n",
       "    <tr>\n",
       "      <th>6</th>\n",
       "      <td>payday</td>\n",
       "      <td>9242.0</td>\n",
       "    </tr>\n",
       "    <tr>\n",
       "      <th>12</th>\n",
       "      <td>local_holiday_name</td>\n",
       "      <td>4266.0</td>\n",
       "    </tr>\n",
       "  </tbody>\n",
       "</table>\n",
       "</div>"
      ],
      "text/plain": [
       "               feature  importance\n",
       "1               family    376925.0\n",
       "0            store_nbr    272481.0\n",
       "5                  day    159755.0\n",
       "2          onpromotion    138771.0\n",
       "11             cluster    132283.0\n",
       "8                 city    117877.0\n",
       "7           dcoilwtico    107975.0\n",
       "3              weekday    104434.0\n",
       "9                state     83675.0\n",
       "10                type     76754.0\n",
       "4                month     32197.0\n",
       "6               payday      9242.0\n",
       "12  local_holiday_name      4266.0"
      ]
     },
     "metadata": {},
     "output_type": "display_data"
    }
   ],
   "source": [
    "# feature importance\n",
    "fi = pd.DataFrame()\n",
    "fi['feature'] = model.get_fscore().keys()\n",
    "fi['importance'] = model.get_fscore().values()\n",
    "display(fi.sort_values('importance', ascending=False))"
   ]
  },
  {
   "cell_type": "code",
   "execution_count": 16,
   "id": "e95b615e",
   "metadata": {},
   "outputs": [
    {
     "data": {
      "text/plain": [
       "<AxesSubplot:>"
      ]
     },
     "execution_count": 16,
     "metadata": {},
     "output_type": "execute_result"
    },
    {
     "data": {
      "image/png": "[encoded data removed]",
      "text/plain": [
       "<Figure size 1440x720 with 1 Axes>"
      ]
     },
     "metadata": {
      "needs_background": "light"
     },
     "output_type": "display_data"
    }
   ],
   "source": [
    "feature_important = model.get_score(importance_type='weight')\n",
    "keys = list(feature_important.keys())\n",
    "values = list(feature_important.values())\n",
    "\n",
    "data = pd.DataFrame(data=values, index=keys, columns=[\"score\"]).sort_values(by = \"score\", ascending=False)\n",
    "data.nlargest(40, columns=\"score\").plot(kind='barh', figsize = (20,10))"
   ]
  },
  {
   "cell_type": "markdown",
   "id": "284d6745",
   "metadata": {},
   "source": [
    "#### Kagge RMSLE: 0.45"
   ]
  }
 ],
 "metadata": {
  "kernelspec": {
   "display_name": "Python 3 (ipykernel)",
   "language": "python",
   "name": "python3"
  },
  "language_info": {
   "codemirror_mode": {
    "name": "ipython",
    "version": 3
   },
   "file_extension": ".py",
   "mimetype": "text/x-python",
   "name": "python",
   "nbconvert_exporter": "python",
   "pygments_lexer": "ipython3",
   "version": "3.8.12"
  }
 },
 "nbformat": 4,
 "nbformat_minor": 5
}
